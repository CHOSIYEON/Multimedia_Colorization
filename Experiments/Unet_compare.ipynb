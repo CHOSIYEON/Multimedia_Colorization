{
  "nbformat": 4,
  "nbformat_minor": 0,
  "metadata": {
    "colab": {
      "name": "Unet_compare.ipynb",
      "private_outputs": true,
      "provenance": [],
      "collapsed_sections": [],
      "toc_visible": true,
      "authorship_tag": "ABX9TyMG2tb0Ii8FT72V3IrE5Xes",
      "include_colab_link": true
    },
    "kernelspec": {
      "name": "python3",
      "display_name": "Python 3"
    },
    "language_info": {
      "name": "python"
    }
  },
  "cells": [
    {
      "cell_type": "markdown",
      "metadata": {
        "id": "view-in-github",
        "colab_type": "text"
      },
      "source": [
        "<a href=\"https://colab.research.google.com/github/CHOSIYEON/Multimedia_Colorization/blob/main/Experiments/Unet_compare.ipynb\" target=\"_parent\"><img src=\"https://colab.research.google.com/assets/colab-badge.svg\" alt=\"Open In Colab\"/></a>"
      ]
    },
    {
      "cell_type": "markdown",
      "metadata": {
        "id": "X8LyphIYqIgG"
      },
      "source": [
        "# Layer 수정"
      ]
    },
    {
      "cell_type": "code",
      "metadata": {
        "id": "3nu3xW7UR3Y4"
      },
      "source": [
        "unet_layer3_train_psnr = [27.527795813324737, 29.994335004086103, 31.409473598689345, 32.303399645357494, 32.956459198890364, 33.576525321056344, 33.76252655386348, 34.330775989698104, 34.56257162454634, 34.861874186631006]\n",
        "unet_layer3_train_loss = [0.0061, 0.0020, 0.0014, 0.0012, 0.0010, 0.0009, 0.0009, 0.0008, 0.0007, 0.0007]\n",
        "unet_layer3_val_psnr = [28.374891958445485, 31.4215767735093, 31.322098945681997, 32.06397629185758, 32.76555653269511, 33.8077568149494, 33.87691598919653, 33.957397044056336, 34.39077578933692, 34.26575635047056]\n",
        "unet_layer3_val_loss = [0.0026, 0.0014, 0.0013, 0.0012, 0.0010, 0.0008, 0.0009, 0.0008, 0.0007, 0.0007]\n",
        "\n",
        "unet_layer4_train_psnr = [27.743859640169507, 30.370477520671965, 31.53744467927985, 32.4616229593752, 32.880332121813844, 33.42648785355798, 33.821265901445784, 34.11807794516458, 34.3245528097361, 34.514198272927366]\n",
        "unet_layer4_train_loss = [0.0056, 0.0019, 0.0014, 0.0011, 0.0010, 0.0009, 0.0008, 0.0008, 0.0008, 0.0007]\n",
        "unet_layer4_val_psnr = [24.469222388866662, 31.871131564624644, 32.28708083190564, 33.526268218257194, 33.08140380446266, 34.02375683224613, 33.04973752312869, 35.21346537633754, 34.71909839016581, 32.660698759304324]\n",
        "unet_layer4_val_loss = [0.0064, 0.0013, 0.0011, 0.0009, 0.0010, 0.0008, 0.0011, 0.0007, 0.0007, 0.0010]\n",
        "\n",
        "unet_layer5_train_psnr = [27.526245126525243, 30.16216128598875, 31.408384010551007, 32.25642574636472, 32.94637059892689, 33.24878387043775, 33.977948453649375, 34.185755432832714, 34.46535987652899, 34.84519354809249]\n",
        "unet_layer5_train_loss = [0.0056, 0.0020, 0.0014, 0.0012, 0.0010, 0.0010, 0.0008, 0.0008, 0.0007, 0.0007]\n",
        "unet_layer5_val_psnr = [29.3625028974253, 28.826927500335422, 29.97658933411888, 32.26078306017823, 33.09994206287149, 34.437990251229635, 33.907086368090766, 35.12356466037434, 34.62349209146258, 34.8023227437966]\n",
        "unet_layer5_val_loss = [0.0023, 0.0023, 0.0018, 0.0011, 0.0010, 0.0008, 0.0008, 0.0007, 0.0007, 0.0007]\n",
        "\n",
        "unet_layer6_train_psnr = [28.188192813366722, 30.894575848859223, 32.38024623363978, 33.1745336917068, 33.637757684915094, 33.96051361947332, 34.21015883648193, 34.7323398407808, 34.931516812558115, 35.12228848394986]\n",
        "unet_layer6_train_loss = [0.0044, 0.0017, 0.0012, 0.0010, 0.0009, 0.0008, 0.0008, 0.0007, 0.0007, 0.0006]\n",
        "unet_layer6_val_psnr = [27.389011387271715, 32.248512140453315, 33.56041588543544, 34.69374355037434, 33.436673952816584, 34.777656113564106, 35.3459217901027, 34.82798515383283, 34.77794701051265, 34.48190523865707]\n",
        "unet_layer6_val_loss = [0.0031, 0.0012, 0.0009, 0.0007, 0.0010, 0.0007, 0.0006, 0.0007, 0.0007, 0.0007]"
      ],
      "execution_count": null,
      "outputs": []
    },
    {
      "cell_type": "markdown",
      "metadata": {
        "id": "wtF7jokhuzda"
      },
      "source": [
        "**Train dataset psnr & loss**"
      ]
    },
    {
      "cell_type": "code",
      "metadata": {
        "id": "RG9CsGmsRs9j"
      },
      "source": [
        "import numpy as np\n",
        "import matplotlib.pyplot as plt\n",
        "\n",
        "epoch_axis = np.arange(0, 10)\n",
        "plt.title('PSNR')\n",
        "plt.plot(epoch_axis, unet_layer3_train_psnr, epoch_axis, unet_layer4_train_psnr, 'r-', epoch_axis, unet_layer5_train_psnr, 'g-',epoch_axis, unet_layer6_train_psnr, 'b-')\n",
        "plt.legend(['layer3', 'layer4', 'layer5','layer6'])\n",
        "plt.show()\n",
        "\n",
        "print(\"\\n\")\n",
        "\n",
        "plt.figure()\n",
        "plt.title('Loss')\n",
        "plt.plot(epoch_axis, unet_layer3_train_loss, epoch_axis, unet_layer4_train_loss, 'r-', epoch_axis, unet_layer5_train_loss, 'g-',epoch_axis, unet_layer6_train_loss, 'b-')\n",
        "plt.legend(['layer3', 'layer4', 'layer5', 'layer6'])\n",
        "plt.show()"
      ],
      "execution_count": null,
      "outputs": []
    },
    {
      "cell_type": "markdown",
      "metadata": {
        "id": "5hzBQtWmu62U"
      },
      "source": [
        "**Validation dataset psnr & loss**"
      ]
    },
    {
      "cell_type": "code",
      "metadata": {
        "id": "3XERdaiLom2R"
      },
      "source": [
        "import numpy as np\n",
        "import matplotlib.pyplot as plt\n",
        "\n",
        "epoch_axis = np.arange(0, 10)\n",
        "plt.title('PSNR')\n",
        "plt.plot(epoch_axis, unet_layer3_val_psnr, epoch_axis, unet_layer4_val_psnr, 'r-', epoch_axis, unet_layer5_val_psnr, 'g-',epoch_axis, unet_layer6_val_psnr, 'b-')\n",
        "plt.legend(['layer3', 'layer4', 'layer5','layer6'])\n",
        "plt.show()\n",
        "\n",
        "print(\"\\n\")\n",
        "\n",
        "plt.figure()\n",
        "plt.title('Loss')\n",
        "plt.plot(epoch_axis, unet_layer3_val_loss, epoch_axis, unet_layer4_val_loss, 'r-', epoch_axis, unet_layer5_val_loss, 'g-',epoch_axis, unet_layer6_val_loss, 'b-')\n",
        "plt.legend(['layer3', 'layer4', 'layer5', 'layer6'])\n",
        "plt.show()"
      ],
      "execution_count": null,
      "outputs": []
    },
    {
      "cell_type": "markdown",
      "metadata": {
        "id": "Rjc4uOtmqN8A"
      },
      "source": [
        "# Batch_size 수정"
      ]
    },
    {
      "cell_type": "code",
      "metadata": {
        "id": "taoolkpNqNel"
      },
      "source": [
        "# unet layer 6\n",
        "\n",
        "unet_batch4_train_psnr = [28.188192813366722, 30.894575848859223, 32.38024623363978, 33.1745336917068, 33.637757684915094, 33.96051361947332, 34.21015883648193, 34.7323398407808, 34.931516812558115, 35.12228848394986]\n",
        "unet_batch4_train_loss = [0.0044, 0.0017, 0.0012, 0.0010, 0.0009, 0.0008, 0.0008, 0.0007, 0.0007, 0.0006]\n",
        "unet_batch4_val_psnr = [27.389011387271715, 32.248512140453315, 33.56041588543544, 34.69374355037434, 33.436673952816584, 34.777656113564106, 35.3459217901027, 34.82798515383283, 34.77794701051265, 34.48190523865707]\n",
        "unet_batch4_val_loss = [0.0031, 0.0012, 0.0009, 0.0007, 0.0010, 0.0007, 0.0006, 0.0007, 0.0007, 0.0007]\n",
        "\n",
        "unet_batch8_train_psnr = [26.704663272580838, 29.70974348081779, 31.12919712271966, 31.85286173473769, 32.3068202707855, 32.795614921980544, 33.210549781542184, 33.6550153322806, 33.81896302409024, 33.94802853740592]\n",
        "unet_batch8_train_loss = [0.0100, 0.0021, 0.0015, 0.0013, 0.0012, 0.0010, 0.0009, 0.0009, 0.0008, 0.0008]\n",
        "unet_batch8_val_psnr = [25.05917758864095, 28.084668500083247, 30.14450061465153, 30.154840313174134, 33.58170710317764, 34.12439609319644, 33.41151406680167, 34.534078806770516, 35.21398166298149, 34.25321331607156]\n",
        "unet_batch8_val_loss = [0.0053, 0.0027, 0.0017, 0.0017, 0.0009, 0.0008, 0.0009, 0.0007, 0.0006, 0.0007]\n",
        "\n",
        "unet_batch16_train_psnr = [26.33720615993388, 28.991353012142323, 30.011862437324467, 31.01234203772595, 31.50539280714752, 31.84710106295932, 32.227761013270396, 32.47657432536686, 32.48321652134963, 32.96731865314936]\n",
        "unet_batch16_train_loss = [0.0059, 0.0025, 0.0019, 0.0015, 0.0013, 0.0012, 0.0011, 0.0011, 0.0011, 0.0010]\n",
        "unet_batch16_val_psnr = [22.809366822454855, 25.296423076208832, 26.20213560129803, 31.583584480725477, 31.60957434804735, 30.828578810118668, 31.305190764467934, 28.240625640264447, 31.48178119235956, 30.037353959782372]\n",
        "unet_batch16_val_loss = [0.0089, 0.0048, 0.0041, 0.0013, 0.0012, 0.0015, 0.0013, 0.0026, 0.0012, 0.0018]\n",
        "\n",
        "unet_batch32_train_psnr = [24.009439233269717, 28.393174881257533, 29.510710366642993, 29.933623198442877, 30.999270469298345, 31.604077681727983, 32.033357538486776, 32.23562270127839, 32.333978845188206, 32.77164493926582]\n",
        "unet_batch32_train_loss = [0.0260, 0.0030, 0.0023, 0.0020, 0.0015, 0.0013, 0.0012, 0.0012, 0.0011, 0.0010]\n",
        "unet_batch32_val_psnr = [24.10656133941868, 26.249582982496655, 26.561182766982405, 27.96658607805842, 29.771580024546747, 29.60035940834377, 30.909046323238975, 31.876378935371186, 32.59834221185745, 32.11663416574791]\n",
        "unet_batch32_val_loss = [0.0066, 0.0040, 0.0036, 0.0027, 0.0018, 0.0018, 0.0015, 0.0012, 0.0010, 0.0011]\n"
      ],
      "execution_count": null,
      "outputs": []
    },
    {
      "cell_type": "markdown",
      "metadata": {
        "id": "fS_EWz0hvgAP"
      },
      "source": [
        "**Train dataset psnr & loss**"
      ]
    },
    {
      "cell_type": "code",
      "metadata": {
        "id": "3Z5IKIOdtjms"
      },
      "source": [
        "import numpy as np\n",
        "import matplotlib.pyplot as plt\n",
        "\n",
        "epoch_axis = np.arange(0, 10)\n",
        "plt.title('PSNR')\n",
        "plt.plot(epoch_axis, unet_batch4_train_psnr, 'b-', epoch_axis, unet_batch8_train_psnr, 'r-', epoch_axis, unet_batch16_train_psnr, 'g-', epoch_axis, unet_batch32_train_psnr)\n",
        "plt.legend(['batch4', 'batch8', 'batch16', 'batch32'])\n",
        "plt.show()\n",
        "\n",
        "print(\"\\n\")\n",
        "\n",
        "plt.figure()\n",
        "plt.title('Loss')\n",
        "plt.plot(epoch_axis, unet_batch4_train_loss, 'b-', epoch_axis, unet_batch8_train_loss, 'r-', epoch_axis, unet_batch16_train_loss, 'g-', epoch_axis, unet_batch32_train_loss)\n",
        "plt.legend(['batch4', 'batch8', 'batch16', 'batch32'])\n",
        "plt.show()"
      ],
      "execution_count": null,
      "outputs": []
    },
    {
      "cell_type": "markdown",
      "metadata": {
        "id": "4T7TeLHkvkvn"
      },
      "source": [
        "**Validation dataset psnr & loss**"
      ]
    },
    {
      "cell_type": "code",
      "metadata": {
        "id": "YV0u3JlXvmx1"
      },
      "source": [
        "import numpy as np\n",
        "import matplotlib.pyplot as plt\n",
        "\n",
        "epoch_axis = np.arange(0, 10)\n",
        "plt.title('PSNR')\n",
        "plt.plot(epoch_axis, unet_batch4_val_psnr, 'b-', epoch_axis, unet_batch8_val_psnr, 'r-', epoch_axis, unet_batch16_val_psnr, 'g-', epoch_axis, unet_batch32_val_psnr)\n",
        "plt.legend(['batch4', 'batch8', 'batch16', 'batch32'])\n",
        "plt.show()\n",
        "\n",
        "print(\"\\n\")\n",
        "\n",
        "plt.figure()\n",
        "plt.title('Loss')\n",
        "plt.plot(epoch_axis, unet_batch4_val_loss, 'b-', epoch_axis, unet_batch8_val_loss, 'r-', epoch_axis, unet_batch16_val_loss, 'g-', epoch_axis, unet_batch32_val_loss)\n",
        "plt.legend(['batch4', 'batch8', 'batch16', 'batch32'])\n",
        "plt.show()"
      ],
      "execution_count": null,
      "outputs": []
    }
  ]
}